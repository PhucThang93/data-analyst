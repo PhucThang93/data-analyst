{
  "nbformat": 4,
  "nbformat_minor": 0,
  "metadata": {
    "colab": {
      "provenance": []
    },
    "kernelspec": {
      "name": "python3",
      "display_name": "Python 3"
    },
    "language_info": {
      "name": "python"
    }
  },
  "cells": [
    {
      "cell_type": "code",
      "execution_count": null,
      "metadata": {
        "id": "_x8pjofQBQmU"
      },
      "outputs": [],
      "source": [
        "import pandas as pd\n",
        "path=r'Global-Superstore.csv'\n",
        "df=pd.read_csv(path)"
      ]
    },
    {
      "cell_type": "code",
      "source": [
        "filter_df=df[df['Country']=='Germany']\n",
        "print(filter_df.info())"
      ],
      "metadata": {
        "colab": {
          "base_uri": "https://localhost:8080/"
        },
        "id": "TUbJgAV2Idb-",
        "outputId": "467eb518-fbae-49db-bcf2-da994fc4a116"
      },
      "execution_count": null,
      "outputs": [
        {
          "output_type": "stream",
          "name": "stdout",
          "text": [
            "<class 'pandas.core.frame.DataFrame'>\n",
            "Index: 2065 entries, 3 to 51275\n",
            "Data columns (total 24 columns):\n",
            " #   Column          Non-Null Count  Dtype  \n",
            "---  ------          --------------  -----  \n",
            " 0   Row ID          2065 non-null   int64  \n",
            " 1   Order ID        2065 non-null   object \n",
            " 2   Order Date      2065 non-null   object \n",
            " 3   Ship Date       2065 non-null   object \n",
            " 4   Ship Mode       2065 non-null   object \n",
            " 5   Customer ID     2065 non-null   object \n",
            " 6   Customer Name   2065 non-null   object \n",
            " 7   Segment         2065 non-null   object \n",
            " 8   City            2065 non-null   object \n",
            " 9   State           2065 non-null   object \n",
            " 10  Country         2065 non-null   object \n",
            " 11  Postal Code     0 non-null      float64\n",
            " 12  Market          2065 non-null   object \n",
            " 13  Region          2065 non-null   object \n",
            " 14  Product ID      2065 non-null   object \n",
            " 15  Category        2065 non-null   object \n",
            " 16  Sub-Category    2065 non-null   object \n",
            " 17  Product Name    2065 non-null   object \n",
            " 18  Sales           2065 non-null   float64\n",
            " 19  Quantity        2065 non-null   int64  \n",
            " 20  Discount        2065 non-null   float64\n",
            " 21  Profit          2065 non-null   float64\n",
            " 22  Shipping Cost   2065 non-null   float64\n",
            " 23  Order Priority  2065 non-null   object \n",
            "dtypes: float64(5), int64(2), object(17)\n",
            "memory usage: 403.3+ KB\n",
            "None\n"
          ]
        }
      ]
    },
    {
      "cell_type": "code",
      "source": [
        "print(filter_df.describe())"
      ],
      "metadata": {
        "colab": {
          "base_uri": "https://localhost:8080/"
        },
        "id": "imWX1wMVSNHD",
        "outputId": "eb5fa72b-540b-4b26-e553-d157f5a8bdba"
      },
      "execution_count": null,
      "outputs": [
        {
          "output_type": "stream",
          "name": "stdout",
          "text": [
            "             Row ID  Postal Code        Sales     Quantity     Discount  \\\n",
            "count   2065.000000          0.0  2065.000000  2065.000000  2065.000000   \n",
            "mean   15184.337046          NaN   304.523017     3.750605     0.057046   \n",
            "std     2887.672849          NaN   479.425451     2.192809     0.109139   \n",
            "min    10313.000000          NaN     4.800000     1.000000     0.000000   \n",
            "25%    12641.000000          NaN    50.790000     2.000000     0.000000   \n",
            "50%    15161.000000          NaN   126.750000     3.000000     0.000000   \n",
            "75%    17583.000000          NaN   336.360000     5.000000     0.100000   \n",
            "max    20294.000000          NaN  4748.436000    14.000000     0.850000   \n",
            "\n",
            "            Profit  Shipping Cost  \n",
            "count  2065.000000    2065.000000  \n",
            "mean     51.972310      30.975874  \n",
            "std     159.903897      62.138854  \n",
            "min   -1924.542000       0.020000  \n",
            "25%       4.770000       4.400000  \n",
            "50%      19.320000      11.850000  \n",
            "75%      59.940000      32.400000  \n",
            "max    1364.238000     910.160000  \n"
          ]
        }
      ]
    },
    {
      "cell_type": "code",
      "source": [
        "def eli_dup(filter_df):\n",
        "  count_dup=filter_df.duplicated().sum()\n",
        "  if count_dup==0:\n",
        "    return 0\n",
        "  else:\n",
        "    return filter_df.duplicates.drop()"
      ],
      "metadata": {
        "id": "okoS__qySXcZ"
      },
      "execution_count": null,
      "outputs": []
    },
    {
      "cell_type": "code",
      "source": [
        "print(eli_dup(filter_df))"
      ],
      "metadata": {
        "colab": {
          "base_uri": "https://localhost:8080/"
        },
        "id": "4_F3fTQ7TEKt",
        "outputId": "c38f2ad4-b038-4122-9944-22704d54c387"
      },
      "execution_count": null,
      "outputs": [
        {
          "output_type": "stream",
          "name": "stdout",
          "text": [
            "0\n"
          ]
        }
      ]
    },
    {
      "cell_type": "code",
      "source": [
        "def null(filter_df):\n",
        "  count_null=filter_df.isna().sum()\n",
        "  if count_null.eq(0).all():\n",
        "    return 0\n",
        "  else:\n",
        "    return filter_df.columns[filter_df.isna().any()]"
      ],
      "metadata": {
        "id": "rHyvPn19TZaR"
      },
      "execution_count": null,
      "outputs": []
    },
    {
      "cell_type": "code",
      "source": [
        "print(null(filter_df))"
      ],
      "metadata": {
        "colab": {
          "base_uri": "https://localhost:8080/"
        },
        "id": "MMGt9AprUKzh",
        "outputId": "ef7eba21-89c6-48f0-f8d1-1693c5f0a1f4"
      },
      "execution_count": null,
      "outputs": [
        {
          "output_type": "stream",
          "name": "stdout",
          "text": [
            "Index(['Postal Code'], dtype='object')\n"
          ]
        }
      ]
    },
    {
      "cell_type": "code",
      "source": [
        "!pip install streamlit\n",
        "import streamlit as st"
      ],
      "metadata": {
        "colab": {
          "base_uri": "https://localhost:8080/"
        },
        "id": "p1ONQIhlEH_B",
        "outputId": "59e81fca-1e96-46bd-e643-c0f3ccf2c558"
      },
      "execution_count": null,
      "outputs": [
        {
          "output_type": "stream",
          "name": "stdout",
          "text": [
            "Requirement already satisfied: streamlit in /usr/local/lib/python3.11/dist-packages (1.41.1)\n",
            "Requirement already satisfied: altair<6,>=4.0 in /usr/local/lib/python3.11/dist-packages (from streamlit) (5.5.0)\n",
            "Requirement already satisfied: blinker<2,>=1.0.0 in /usr/local/lib/python3.11/dist-packages (from streamlit) (1.9.0)\n",
            "Requirement already satisfied: cachetools<6,>=4.0 in /usr/local/lib/python3.11/dist-packages (from streamlit) (5.5.0)\n",
            "Requirement already satisfied: click<9,>=7.0 in /usr/local/lib/python3.11/dist-packages (from streamlit) (8.1.8)\n",
            "Requirement already satisfied: numpy<3,>=1.23 in /usr/local/lib/python3.11/dist-packages (from streamlit) (1.26.4)\n",
            "Requirement already satisfied: packaging<25,>=20 in /usr/local/lib/python3.11/dist-packages (from streamlit) (24.2)\n",
            "Requirement already satisfied: pandas<3,>=1.4.0 in /usr/local/lib/python3.11/dist-packages (from streamlit) (2.2.2)\n",
            "Requirement already satisfied: pillow<12,>=7.1.0 in /usr/local/lib/python3.11/dist-packages (from streamlit) (11.1.0)\n",
            "Requirement already satisfied: protobuf<6,>=3.20 in /usr/local/lib/python3.11/dist-packages (from streamlit) (4.25.5)\n",
            "Requirement already satisfied: pyarrow>=7.0 in /usr/local/lib/python3.11/dist-packages (from streamlit) (17.0.0)\n",
            "Requirement already satisfied: requests<3,>=2.27 in /usr/local/lib/python3.11/dist-packages (from streamlit) (2.32.3)\n",
            "Requirement already satisfied: rich<14,>=10.14.0 in /usr/local/lib/python3.11/dist-packages (from streamlit) (13.9.4)\n",
            "Requirement already satisfied: tenacity<10,>=8.1.0 in /usr/local/lib/python3.11/dist-packages (from streamlit) (9.0.0)\n",
            "Requirement already satisfied: toml<2,>=0.10.1 in /usr/local/lib/python3.11/dist-packages (from streamlit) (0.10.2)\n",
            "Requirement already satisfied: typing-extensions<5,>=4.3.0 in /usr/local/lib/python3.11/dist-packages (from streamlit) (4.12.2)\n",
            "Requirement already satisfied: watchdog<7,>=2.1.5 in /usr/local/lib/python3.11/dist-packages (from streamlit) (6.0.0)\n",
            "Requirement already satisfied: gitpython!=3.1.19,<4,>=3.0.7 in /usr/local/lib/python3.11/dist-packages (from streamlit) (3.1.44)\n",
            "Requirement already satisfied: pydeck<1,>=0.8.0b4 in /usr/local/lib/python3.11/dist-packages (from streamlit) (0.9.1)\n",
            "Requirement already satisfied: tornado<7,>=6.0.3 in /usr/local/lib/python3.11/dist-packages (from streamlit) (6.3.3)\n",
            "Requirement already satisfied: jinja2 in /usr/local/lib/python3.11/dist-packages (from altair<6,>=4.0->streamlit) (3.1.5)\n",
            "Requirement already satisfied: jsonschema>=3.0 in /usr/local/lib/python3.11/dist-packages (from altair<6,>=4.0->streamlit) (4.23.0)\n",
            "Requirement already satisfied: narwhals>=1.14.2 in /usr/local/lib/python3.11/dist-packages (from altair<6,>=4.0->streamlit) (1.21.1)\n",
            "Requirement already satisfied: gitdb<5,>=4.0.1 in /usr/local/lib/python3.11/dist-packages (from gitpython!=3.1.19,<4,>=3.0.7->streamlit) (4.0.12)\n",
            "Requirement already satisfied: python-dateutil>=2.8.2 in /usr/local/lib/python3.11/dist-packages (from pandas<3,>=1.4.0->streamlit) (2.8.2)\n",
            "Requirement already satisfied: pytz>=2020.1 in /usr/local/lib/python3.11/dist-packages (from pandas<3,>=1.4.0->streamlit) (2024.2)\n",
            "Requirement already satisfied: tzdata>=2022.7 in /usr/local/lib/python3.11/dist-packages (from pandas<3,>=1.4.0->streamlit) (2024.2)\n",
            "Requirement already satisfied: charset-normalizer<4,>=2 in /usr/local/lib/python3.11/dist-packages (from requests<3,>=2.27->streamlit) (3.4.1)\n",
            "Requirement already satisfied: idna<4,>=2.5 in /usr/local/lib/python3.11/dist-packages (from requests<3,>=2.27->streamlit) (3.10)\n",
            "Requirement already satisfied: urllib3<3,>=1.21.1 in /usr/local/lib/python3.11/dist-packages (from requests<3,>=2.27->streamlit) (2.3.0)\n",
            "Requirement already satisfied: certifi>=2017.4.17 in /usr/local/lib/python3.11/dist-packages (from requests<3,>=2.27->streamlit) (2024.12.14)\n",
            "Requirement already satisfied: markdown-it-py>=2.2.0 in /usr/local/lib/python3.11/dist-packages (from rich<14,>=10.14.0->streamlit) (3.0.0)\n",
            "Requirement already satisfied: pygments<3.0.0,>=2.13.0 in /usr/local/lib/python3.11/dist-packages (from rich<14,>=10.14.0->streamlit) (2.18.0)\n",
            "Requirement already satisfied: smmap<6,>=3.0.1 in /usr/local/lib/python3.11/dist-packages (from gitdb<5,>=4.0.1->gitpython!=3.1.19,<4,>=3.0.7->streamlit) (5.0.2)\n",
            "Requirement already satisfied: MarkupSafe>=2.0 in /usr/local/lib/python3.11/dist-packages (from jinja2->altair<6,>=4.0->streamlit) (3.0.2)\n",
            "Requirement already satisfied: attrs>=22.2.0 in /usr/local/lib/python3.11/dist-packages (from jsonschema>=3.0->altair<6,>=4.0->streamlit) (24.3.0)\n",
            "Requirement already satisfied: jsonschema-specifications>=2023.03.6 in /usr/local/lib/python3.11/dist-packages (from jsonschema>=3.0->altair<6,>=4.0->streamlit) (2024.10.1)\n",
            "Requirement already satisfied: referencing>=0.28.4 in /usr/local/lib/python3.11/dist-packages (from jsonschema>=3.0->altair<6,>=4.0->streamlit) (0.35.1)\n",
            "Requirement already satisfied: rpds-py>=0.7.1 in /usr/local/lib/python3.11/dist-packages (from jsonschema>=3.0->altair<6,>=4.0->streamlit) (0.22.3)\n",
            "Requirement already satisfied: mdurl~=0.1 in /usr/local/lib/python3.11/dist-packages (from markdown-it-py>=2.2.0->rich<14,>=10.14.0->streamlit) (0.1.2)\n",
            "Requirement already satisfied: six>=1.5 in /usr/local/lib/python3.11/dist-packages (from python-dateutil>=2.8.2->pandas<3,>=1.4.0->streamlit) (1.17.0)\n"
          ]
        }
      ]
    },
    {
      "cell_type": "code",
      "source": [
        "state_city_dict={}\n",
        "for _, row in filter_df.iterrows():\n",
        "    state=row['State']\n",
        "    city=row['City']\n",
        "    if state not in state_city_dict:\n",
        "        state_city_dict[state]=[]\n",
        "    if city not in state_city_dict[state]:\n",
        "        state_city_dict[state].append(city)\n",
        "for state, city in state_city_dict.items():\n",
        "    print(f\"{state}:{city}\")"
      ],
      "metadata": {
        "id": "RfUPjvqGYbh0",
        "colab": {
          "base_uri": "https://localhost:8080/"
        },
        "outputId": "d59053bb-cb1c-4d87-9048-69d92e028e98"
      },
      "execution_count": null,
      "outputs": [
        {
          "output_type": "stream",
          "name": "stdout",
          "text": [
            "Berlin:['Berlin']\n",
            "Saxony:['Leipzig', 'Dresden', 'Chemnitz', 'Zwickau']\n",
            "Lower Saxony:['Munster', 'Celle', 'Hanover', 'Garbsen', 'Hildesheim', 'Wilhelmshaven', 'Langenhagen', 'Oldenburg', 'Langen', 'Delmenhorst', 'Emden', 'Lohne', 'Cuxhaven', 'Wolfsburg']\n",
            "North Rhine-Westphalia:['Duisburg', 'Krefeld', 'Bochum', 'Moers', 'Iserlohn', 'Menden', 'Dortmund', 'Herford', 'Euskirchen', 'Aachen', 'Dormagen', 'Gronau', 'Solingen', 'Cologne', 'Bottrop', 'Castrop-Rauxel', 'Bonn', 'Herne', 'Oberhausen', 'Stolberg', 'Essen', 'Bielefeld', 'Hamm', 'Remscheid', 'Troisdorf', 'Siegen', 'Halle', 'Erftstadt', 'Lippstadt', 'Pulheim', 'Minden', 'Herten', 'Ratingen', 'Paderborn', 'Wuppertal', 'Grevenbroich', 'Rheine', 'Gelsenkirchen', 'Dorsten', 'Hagen', 'Marl', 'Recklinghausen', 'Unna', 'Wetter (Ruhr)', 'Dinslaken', 'Gummersbach', 'Langenfeld', 'Gladbeck', 'Witten', 'Arnsberg', 'Leverkusen', 'Velbert', 'Hilden', 'Viersen', 'Bergheim', 'Bergisch Gladbach', 'Ennigerloh', 'Willich', 'Kerpen', 'Borken', 'Hattingen', 'Detmold', 'Stadtlohn']\n",
            "Bavaria:['Augsburg', 'Erlangen', 'Regensburg', 'Nuremberg', 'Munich', 'Aschaffenburg', 'Rosenheim', 'Bayreuth', 'Ingolstadt', 'Neu-Ulm', 'Bamberg', 'Passau', 'Schweinfurt', 'Günzburg']\n",
            "Bremen:['Bremen', 'Bremerhaven']\n",
            "Hamburg:['Hamburg']\n",
            "Thuringia:['Weimar', 'Jena', 'Gera', 'Erfurt', 'Sonneberg']\n",
            "Hesse:['Wetzlar', 'Frankfurt', 'Kassel', 'Wiesbaden', 'Offenbach', 'Darmstadt', 'Friedberg', 'Langen', 'Fulda']\n",
            "Mecklenburg-Vorpommern:['Schwerin', 'Rostock', 'Greifswald', 'Stralsund', 'Neubrandenburg']\n",
            "Rhineland-Palatinate:['Trier', 'Mainz', 'Neuwied', 'Ludwigshafen am Rhein', 'Kaiserslautern', 'Worms', 'Koblenz']\n",
            "Baden-Württemberg:['Stuttgart', 'Reutlingen', 'Ulm', 'Sindelfingen', 'Offenburg', 'Pforzheim', 'Aalen', 'Karlsruhe', 'Heidelberg', 'Heilbronn', 'Friedrichshafen', 'Villingen-Schwenningen', 'Ludwigsburg', 'Freiburg', 'Eggenstein-Leopoldshafen', 'Bad Waldsee', 'Waiblingen', 'Mannheim', 'Baden-Baden']\n",
            "Brandenburg:['Brandenburg', 'Potsdam', 'Ludwigsfelde', 'Cottbus', 'Forst']\n",
            "Saxony-Anhalt:['Halle', 'Magdeburg', 'Naumburg']\n",
            "Saarland:['Neunkirchen', 'Schiffweiler']\n",
            "Schleswig-Holstein:['Kiel', 'Norderstedt', 'Flensburg']\n"
          ]
        }
      ]
    },
    {
      "cell_type": "code",
      "source": [],
      "metadata": {
        "id": "RcQF3y63U0i3"
      },
      "execution_count": null,
      "outputs": []
    }
  ]
}